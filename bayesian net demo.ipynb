{
 "cells": [
  {
   "cell_type": "code",
   "execution_count": 1,
   "metadata": {
    "collapsed": false
   },
   "outputs": [],
   "source": [
    "%matplotlib inline\n",
    "import numpy as np\n",
    "import matplotlib.pyplot as plt"
   ]
  },
  {
   "cell_type": "code",
   "execution_count": 6,
   "metadata": {
    "collapsed": false
   },
   "outputs": [
    {
     "data": {
      "image/png": "[encoded data removed]",
      "text/plain": [
       "<matplotlib.figure.Figure at 0x7fe91da0f0b8>"
      ]
     },
     "metadata": {},
     "output_type": "display_data"
    }
   ],
   "source": [
    "num_samples = int(1e6)\n",
    "\n",
    "#hyperparams\n",
    "mu1 = 2000\n",
    "mu2 = 5000\n",
    "s1 = 500\n",
    "s2 = 1500\n",
    "h = 1e8\n",
    "\n",
    "\n",
    "#params\n",
    "x = np.random.normal(mu1,s1,size=num_samples)\n",
    "y = np.random.normal(mu2,s2,size=num_samples)\n",
    "z = np.random.uniform(0,h,size=num_samples)\n",
    "g = 0.2\n",
    "\n",
    "# our 'model'\n",
    "w = x*y+g*z\n",
    "\n",
    "# given these (hyper)params, our results\n",
    "plt.hist(w,bins=50);\n",
    "\n"
   ]
  },
  {
   "cell_type": "code",
   "execution_count": 59,
   "metadata": {
    "collapsed": false
   },
   "outputs": [],
   "source": []
  },
  {
   "cell_type": "code",
   "execution_count": null,
   "metadata": {
    "collapsed": false
   },
   "outputs": [],
   "source": []
  }
 ],
 "metadata": {
  "kernelspec": {
   "display_name": "Python 3",
   "language": "python",
   "name": "python3"
  },
  "language_info": {
   "codemirror_mode": {
    "name": "ipython",
    "version": 3
   },
   "file_extension": ".py",
   "mimetype": "text/x-python",
   "name": "python",
   "nbconvert_exporter": "python",
   "pygments_lexer": "ipython3",
   "version": "3.4.3"
  }
 },
 "nbformat": 4,
 "nbformat_minor": 0
}
